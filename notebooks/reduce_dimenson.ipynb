{
 "cells": [
  {
   "cell_type": "code",
   "execution_count": 1,
   "outputs": [],
   "source": [
    "from sklearn.model_selection import train_test_split\n",
    "from sklearn.metrics import f1_score\n",
    "import pandas as pd\n",
    "import seaborn as sns\n",
    "import matplotlib.pyplot as plt\n",
    "from sklearn.decomposition import KernelPCA\n",
    "from sklearn.model_selection import GridSearchCV\n",
    "import lightgbm as lgb\n",
    "from sklearn.pipeline import Pipeline"
   ],
   "metadata": {
    "collapsed": false,
    "pycharm": {
     "name": "#%%\n"
    }
   }
  },
  {
   "cell_type": "code",
   "execution_count": 2,
   "outputs": [],
   "source": [
    "X = pd.read_csv (r'../data/raw/train_data.csv', header=None)\n",
    "y = pd.read_csv (r'../data/raw/train_labels.csv', names = ['target'], header=None)"
   ],
   "metadata": {
    "collapsed": false,
    "pycharm": {
     "name": "#%%\n"
    }
   }
  },
  {
   "cell_type": "markdown",
   "source": [
    "PCA + TSNE"
   ],
   "metadata": {
    "collapsed": false,
    "pycharm": {
     "name": "#%% md\n"
    }
   }
  },
  {
   "cell_type": "code",
   "execution_count": 4,
   "outputs": [
    {
     "name": "stdout",
     "output_type": "stream",
     "text": [
      "2519\n"
     ]
    }
   ],
   "source": [
    "from sklearn.decomposition import PCA\n",
    "from sklearn.manifold import TSNE\n",
    "import numpy as np\n",
    "\n",
    "pca_99 = PCA(n_components=0.99)\n",
    "pca_99_result = pca_99.fit_transform(X)\n",
    "\n",
    "print(pca_99.n_components_)"
   ],
   "metadata": {
    "collapsed": false,
    "pycharm": {
     "name": "#%%\n"
    }
   }
  },
  {
   "cell_type": "code",
   "execution_count": null,
   "outputs": [],
   "source": [
    "plt.scatter(pca_99_result[:,0], pca_99_result[:,1],c=y.target, alpha=0.5)\n",
    "plt.xlabel('x')\n",
    "plt.ylabel('y')\n",
    "plt.show()"
   ],
   "metadata": {
    "collapsed": false,
    "pycharm": {
     "name": "#%%\n",
     "is_executing": true
    }
   }
  },
  {
   "cell_type": "code",
   "execution_count": 11,
   "outputs": [
    {
     "name": "stderr",
     "output_type": "stream",
     "text": [
      "/home/michal/anaconda3/envs/CDV/lib/python3.9/site-packages/sklearn/manifold/_t_sne.py:982: FutureWarning: The PCA initialization in TSNE will change to have the standard deviation of PC1 equal to 1e-4 in 1.2. This will ensure better convergence.\n",
      "  warnings.warn(\n"
     ]
    }
   ],
   "source": [
    "tsne = TSNE(init='pca', n_components=2, learning_rate=100)\n",
    "tsne_result = tsne.fit_transform(pca_99_result)"
   ],
   "metadata": {
    "collapsed": false,
    "pycharm": {
     "name": "#%%\n"
    }
   }
  },
  {
   "cell_type": "code",
   "execution_count": null,
   "outputs": [],
   "source": [
    "plt.scatter(tsne_result[:,0], tsne_result[:,1],c=y.target, alpha=0.5)\n",
    "plt.xlabel('x')\n",
    "plt.ylabel('y')\n",
    "plt.show()"
   ],
   "metadata": {
    "collapsed": false,
    "pycharm": {
     "name": "#%%\n",
     "is_executing": true
    }
   }
  },
  {
   "cell_type": "code",
   "execution_count": null,
   "outputs": [],
   "source": [
    "pdf = pd.DataFrame()\n",
    "\n",
    "pdf['first_dim'] = pd.Series(tsne_result[:,0])\n",
    "pdf['second_dim'] = pd.Series(tsne_result[:,1])\n",
    "\n",
    "plt.figure(figsize=(16,10))\n",
    "sns.scatterplot(\n",
    "    x='first_dim', y='second_dim',\n",
    "    hue=y.target,\n",
    "    #paleta=sns.color_palette(\"hls\", 10) ,\n",
    "    data=pdf,\n",
    "    legend=\"full\",\n",
    "    #alfa=0.3\n",
    ")\n"
   ],
   "metadata": {
    "collapsed": false,
    "pycharm": {
     "name": "#%%\n",
     "is_executing": true
    }
   }
  },
  {
   "cell_type": "markdown",
   "source": [
    "KernelPCA\n",
    "gamma deault: 1/columns\n",
    "best kernel: linear\n",
    "columns: 90"
   ],
   "metadata": {
    "collapsed": false,
    "pycharm": {
     "name": "#%% md\n"
    }
   }
  },
  {
   "cell_type": "code",
   "execution_count": null,
   "outputs": [],
   "source": [
    "clf = Pipeline([\n",
    "    (\"kpca\", KernelPCA(n_components=90)),\n",
    "    (\"lgbl\", lgb.LGBMClassifier(class_weight=\"balanced\", verbose=1))\n",
    "])\n",
    "\n",
    "params = [{\n",
    "    #\"kpca__eigen_solver\": [\"dense\", \"arpack\"],\n",
    "    #\"kpca__kernel\": [\"linear\", \"rbf\", \"sigmoid\"],\n",
    "    #\"kpca__n_components\": [70, 90, 100, 1sigmoid10, 130]\n",
    "    \"kpca__gamma\": np.linspace(1/10000, 0.03, 3),\n",
    "}]\n",
    "\n",
    "grid_search = GridSearchCV(clf, params, cv=3)\n",
    "grid_search.fit(X,y)\n",
    "\n",
    "print(grid_search.best_score_)\n",
    "print(grid_search.best_params_)"
   ],
   "metadata": {
    "collapsed": false,
    "pycharm": {
     "name": "#%%\n",
     "is_executing": true
    }
   }
  },
  {
   "cell_type": "code",
   "execution_count": 22,
   "outputs": [],
   "source": [
    "kpca = KernelPCA(n_components=90, gamma=None, kernel=\"linear\")\n",
    "kpca_result = kpca.fit_transform(X, y)"
   ],
   "metadata": {
    "collapsed": false,
    "pycharm": {
     "name": "#%%\n"
    }
   }
  },
  {
   "cell_type": "code",
   "execution_count": 35,
   "outputs": [],
   "source": [
    "from sklearn.preprocessing import StandardScaler\n",
    "\n",
    "scaler = StandardScaler()\n",
    "kpca_std_result = scaler.fit_transform(kpca_result)\n"
   ],
   "metadata": {
    "collapsed": false,
    "pycharm": {
     "name": "#%%\n"
    }
   }
  },
  {
   "cell_type": "code",
   "execution_count": 37,
   "outputs": [
    {
     "data": {
      "text/plain": "array([[-1.11991082, -0.684494  ,  1.35635486, ..., -0.19424285,\n        -0.56098076, -0.27337674],\n       [-0.92425593, -0.97201824, -0.56643876, ..., -0.89483565,\n         0.85781199,  1.23305993],\n       [ 0.19487417,  1.73973311, -0.20351326, ..., -0.70152106,\n        -0.83120052,  1.62899052],\n       ...,\n       [ 0.84330393,  2.08211302, -0.14192289, ...,  0.18895045,\n        -0.01083331, -0.84253365],\n       [-0.93957038,  1.93247083,  0.00755928, ...,  0.10534929,\n        -0.8100673 ,  0.75138745],\n       [ 0.0830381 ,  0.31175602,  0.58974763, ...,  1.26634833,\n        -0.18053401,  0.61190851]])"
     },
     "execution_count": 37,
     "metadata": {},
     "output_type": "execute_result"
    }
   ],
   "source": [
    "X_train, X_test, y_train, y_test = train_test_split(kpca_std_result, y, test_size=0.2, stratify=y, random_state=2022)\n",
    "X_train"
   ],
   "metadata": {
    "collapsed": false,
    "pycharm": {
     "name": "#%%\n"
    }
   }
  },
  {
   "cell_type": "code",
   "execution_count": 46,
   "outputs": [
    {
     "data": {
      "text/plain": "array([[ 0.19487417,  1.73973311, -0.20351326, ..., -0.70152106,\n        -0.83120052,  1.62899052],\n       [ 0.45514081, -0.13598685,  0.98780612, ..., -1.35835783,\n        -0.23677305, -1.80703073],\n       [ 0.05932889, -0.95787998,  0.45437466, ...,  1.16603659,\n         0.33616222, -2.83223018],\n       ...,\n       [ 0.88714269,  0.49595305, -0.60587619, ...,  0.04311716,\n        -0.18154224,  1.04639135],\n       [-1.47425733,  0.84086078, -0.24436884, ...,  1.2193757 ,\n         0.83622602, -2.93091305],\n       [ 1.14591455, -1.36810659, -0.13973701, ..., -0.71817386,\n         0.11754955,  1.51029346]])"
     },
     "execution_count": 46,
     "metadata": {},
     "output_type": "execute_result"
    }
   ],
   "source": [
    "from imblearn.over_sampling import RandomOverSampler\n",
    "from imblearn.under_sampling import RandomUnderSampler\n",
    "from imblearn.pipeline import Pipeline\n",
    "\n",
    "oversampling = RandomOverSampler(random_state=42)\n",
    "undersampling = RandomUnderSampler(random_state=42, replacement=True)\n",
    "\n",
    "pipeline = Pipeline(steps=[('o', oversampling), ('u', undersampling)])\n",
    "\n",
    "X_resampled, y_resampled = pipeline.fit_resample(X_train, y_train)\n",
    "X_resampled"
   ],
   "metadata": {
    "collapsed": false,
    "pycharm": {
     "name": "#%%\n"
    }
   }
  },
  {
   "cell_type": "code",
   "execution_count": 44,
   "outputs": [
    {
     "name": "stdout",
     "output_type": "stream",
     "text": [
      "end\n"
     ]
    }
   ],
   "source": [
    "from lightgbm import LGBMClassifier\n",
    "\n",
    "model = LGBMClassifier(criterion='entropy', random_state=1, splitter='best')\n",
    "model.fit(X_resampled, y_resampled)\n",
    "y_pred = model.predict(X_test)\n",
    "print('end')"
   ],
   "metadata": {
    "collapsed": false,
    "pycharm": {
     "name": "#%%\n"
    }
   }
  },
  {
   "cell_type": "code",
   "execution_count": 45,
   "outputs": [
    {
     "data": {
      "text/plain": "0.9242199108469539"
     },
     "execution_count": 45,
     "metadata": {},
     "output_type": "execute_result"
    }
   ],
   "source": [
    "f1_score(y_test, y_pred)"
   ],
   "metadata": {
    "collapsed": false,
    "pycharm": {
     "name": "#%%\n"
    }
   }
  },
  {
   "cell_type": "code",
   "execution_count": 9,
   "outputs": [
    {
     "data": {
      "text/plain": "                 0             1             2             3             4   \\\n0     -91593.433900  96789.870578 -36895.945524 -13438.340570   4446.641134   \n1     184154.264148   4749.553277   1759.891228  38521.039305  -3496.245433   \n2     263109.390985  10679.885565   5933.124977 -35429.371821   7295.375641   \n3      87336.904757 -27735.864238  49725.460892 -14681.084450   -233.944929   \n4    -126165.683998  -3049.310040 -50607.767913  26985.201978  -7745.263946   \n...             ...           ...           ...           ...           ...   \n3745   30852.375296   2443.760681 -37515.920444    288.396969  12464.677853   \n3746  219757.423663  40321.240020  55605.576151 -12539.525618  -6053.569275   \n3747  179459.091091  11374.561213 -15198.363507  -2653.048762  -7248.666273   \n3748 -144222.988930 -26324.644198 -40555.204210   -987.763333   9826.795246   \n3749 -143687.121476 -36674.467859 -25714.963780 -17336.781734   1923.555360   \n\n               5            6            7            8            9   ...  \\\n0      180.541599  1391.444989  2303.428321   694.920894 -1517.439428  ...   \n1      -79.622927 -2583.113559 -2712.715740 -2296.127548  -461.881682  ...   \n2      157.962689 -1739.946487  1301.481744  4212.887661  -208.019751  ...   \n3     -424.411501  -782.403254 -1661.345018 -1781.862850  -130.470305  ...   \n4       -1.897623 -1202.876071  -961.946665    24.122546  3315.369753  ...   \n...           ...          ...          ...          ...          ...  ...   \n3745  1655.498087  -748.206815  -642.513156 -1220.942748  1463.666909  ...   \n3746  1469.568707 -1387.691304 -1144.604392  1245.224184  1263.831802  ...   \n3747   490.905755 -1834.723328  1339.468223  -332.318377 -2003.026207  ...   \n3748  -204.449301 -3068.778408  -849.747627  3752.101591 -1669.777305  ...   \n3749  1066.715413  -124.299330  -492.474755   117.435344 -1544.677480  ...   \n\n               80           81           82           83           84  \\\n0      304.266926   113.600339  1033.359456   830.801390  -702.619023   \n1     -752.904091  2537.344976 -1019.333630 -2550.238524   518.574377   \n2     -734.108837 -1282.443904   -64.863567  1389.229961   573.480029   \n3    -1690.177343  -398.898292   772.198900   461.937065  1800.198802   \n4     1493.057730 -1366.850864  -478.726768 -1633.759057    92.790217   \n...           ...          ...          ...          ...          ...   \n3745 -1282.544995 -1338.373618  -483.676790  1163.916176 -1106.063253   \n3746   481.105638   821.957459  5292.403356   491.280360 -2095.989723   \n3747 -1584.020920   164.864685   -19.869329 -1914.183864   601.807872   \n3748  1296.241932   849.101965  2768.577635  3203.240988   730.781056   \n3749  -192.257734   596.244732  1085.096485  2249.026481  1279.672334   \n\n               85           86           87           88           89  \n0     -340.348168   444.294740 -1132.661745  -461.007215 -3233.824781  \n1    -3078.092073  1119.730756  -452.549802  -205.888447 -1531.714284  \n2      944.872342  3620.119959  1270.742412  1134.781842   397.470381  \n3    -1130.189027   545.152398 -1939.143021  1234.216482   810.472876  \n4    -1719.642380   268.071720 -1257.722082   208.942065  -818.893917  \n...           ...          ...          ...          ...          ...  \n3745  3581.639425  -940.237229 -3331.808373  -731.392474   778.152787  \n3746  -555.094057 -3033.338063  1129.920523  -740.970252 -1129.176380  \n3747   395.926409 -2324.838996   171.118455  1412.326174   122.648314  \n3748  -204.692443   185.841519  1032.122163  2372.807511   131.957871  \n3749  2957.789054 -1080.550178  1557.198530 -1906.866035 -2188.404098  \n\n[3750 rows x 90 columns]",
      "text/html": "<div>\n<style scoped>\n    .dataframe tbody tr th:only-of-type {\n        vertical-align: middle;\n    }\n\n    .dataframe tbody tr th {\n        vertical-align: top;\n    }\n\n    .dataframe thead th {\n        text-align: right;\n    }\n</style>\n<table border=\"1\" class=\"dataframe\">\n  <thead>\n    <tr style=\"text-align: right;\">\n      <th></th>\n      <th>0</th>\n      <th>1</th>\n      <th>2</th>\n      <th>3</th>\n      <th>4</th>\n      <th>5</th>\n      <th>6</th>\n      <th>7</th>\n      <th>8</th>\n      <th>9</th>\n      <th>...</th>\n      <th>80</th>\n      <th>81</th>\n      <th>82</th>\n      <th>83</th>\n      <th>84</th>\n      <th>85</th>\n      <th>86</th>\n      <th>87</th>\n      <th>88</th>\n      <th>89</th>\n    </tr>\n  </thead>\n  <tbody>\n    <tr>\n      <th>0</th>\n      <td>-91593.433900</td>\n      <td>96789.870578</td>\n      <td>-36895.945524</td>\n      <td>-13438.340570</td>\n      <td>4446.641134</td>\n      <td>180.541599</td>\n      <td>1391.444989</td>\n      <td>2303.428321</td>\n      <td>694.920894</td>\n      <td>-1517.439428</td>\n      <td>...</td>\n      <td>304.266926</td>\n      <td>113.600339</td>\n      <td>1033.359456</td>\n      <td>830.801390</td>\n      <td>-702.619023</td>\n      <td>-340.348168</td>\n      <td>444.294740</td>\n      <td>-1132.661745</td>\n      <td>-461.007215</td>\n      <td>-3233.824781</td>\n    </tr>\n    <tr>\n      <th>1</th>\n      <td>184154.264148</td>\n      <td>4749.553277</td>\n      <td>1759.891228</td>\n      <td>38521.039305</td>\n      <td>-3496.245433</td>\n      <td>-79.622927</td>\n      <td>-2583.113559</td>\n      <td>-2712.715740</td>\n      <td>-2296.127548</td>\n      <td>-461.881682</td>\n      <td>...</td>\n      <td>-752.904091</td>\n      <td>2537.344976</td>\n      <td>-1019.333630</td>\n      <td>-2550.238524</td>\n      <td>518.574377</td>\n      <td>-3078.092073</td>\n      <td>1119.730756</td>\n      <td>-452.549802</td>\n      <td>-205.888447</td>\n      <td>-1531.714284</td>\n    </tr>\n    <tr>\n      <th>2</th>\n      <td>263109.390985</td>\n      <td>10679.885565</td>\n      <td>5933.124977</td>\n      <td>-35429.371821</td>\n      <td>7295.375641</td>\n      <td>157.962689</td>\n      <td>-1739.946487</td>\n      <td>1301.481744</td>\n      <td>4212.887661</td>\n      <td>-208.019751</td>\n      <td>...</td>\n      <td>-734.108837</td>\n      <td>-1282.443904</td>\n      <td>-64.863567</td>\n      <td>1389.229961</td>\n      <td>573.480029</td>\n      <td>944.872342</td>\n      <td>3620.119959</td>\n      <td>1270.742412</td>\n      <td>1134.781842</td>\n      <td>397.470381</td>\n    </tr>\n    <tr>\n      <th>3</th>\n      <td>87336.904757</td>\n      <td>-27735.864238</td>\n      <td>49725.460892</td>\n      <td>-14681.084450</td>\n      <td>-233.944929</td>\n      <td>-424.411501</td>\n      <td>-782.403254</td>\n      <td>-1661.345018</td>\n      <td>-1781.862850</td>\n      <td>-130.470305</td>\n      <td>...</td>\n      <td>-1690.177343</td>\n      <td>-398.898292</td>\n      <td>772.198900</td>\n      <td>461.937065</td>\n      <td>1800.198802</td>\n      <td>-1130.189027</td>\n      <td>545.152398</td>\n      <td>-1939.143021</td>\n      <td>1234.216482</td>\n      <td>810.472876</td>\n    </tr>\n    <tr>\n      <th>4</th>\n      <td>-126165.683998</td>\n      <td>-3049.310040</td>\n      <td>-50607.767913</td>\n      <td>26985.201978</td>\n      <td>-7745.263946</td>\n      <td>-1.897623</td>\n      <td>-1202.876071</td>\n      <td>-961.946665</td>\n      <td>24.122546</td>\n      <td>3315.369753</td>\n      <td>...</td>\n      <td>1493.057730</td>\n      <td>-1366.850864</td>\n      <td>-478.726768</td>\n      <td>-1633.759057</td>\n      <td>92.790217</td>\n      <td>-1719.642380</td>\n      <td>268.071720</td>\n      <td>-1257.722082</td>\n      <td>208.942065</td>\n      <td>-818.893917</td>\n    </tr>\n    <tr>\n      <th>...</th>\n      <td>...</td>\n      <td>...</td>\n      <td>...</td>\n      <td>...</td>\n      <td>...</td>\n      <td>...</td>\n      <td>...</td>\n      <td>...</td>\n      <td>...</td>\n      <td>...</td>\n      <td>...</td>\n      <td>...</td>\n      <td>...</td>\n      <td>...</td>\n      <td>...</td>\n      <td>...</td>\n      <td>...</td>\n      <td>...</td>\n      <td>...</td>\n      <td>...</td>\n      <td>...</td>\n    </tr>\n    <tr>\n      <th>3745</th>\n      <td>30852.375296</td>\n      <td>2443.760681</td>\n      <td>-37515.920444</td>\n      <td>288.396969</td>\n      <td>12464.677853</td>\n      <td>1655.498087</td>\n      <td>-748.206815</td>\n      <td>-642.513156</td>\n      <td>-1220.942748</td>\n      <td>1463.666909</td>\n      <td>...</td>\n      <td>-1282.544995</td>\n      <td>-1338.373618</td>\n      <td>-483.676790</td>\n      <td>1163.916176</td>\n      <td>-1106.063253</td>\n      <td>3581.639425</td>\n      <td>-940.237229</td>\n      <td>-3331.808373</td>\n      <td>-731.392474</td>\n      <td>778.152787</td>\n    </tr>\n    <tr>\n      <th>3746</th>\n      <td>219757.423663</td>\n      <td>40321.240020</td>\n      <td>55605.576151</td>\n      <td>-12539.525618</td>\n      <td>-6053.569275</td>\n      <td>1469.568707</td>\n      <td>-1387.691304</td>\n      <td>-1144.604392</td>\n      <td>1245.224184</td>\n      <td>1263.831802</td>\n      <td>...</td>\n      <td>481.105638</td>\n      <td>821.957459</td>\n      <td>5292.403356</td>\n      <td>491.280360</td>\n      <td>-2095.989723</td>\n      <td>-555.094057</td>\n      <td>-3033.338063</td>\n      <td>1129.920523</td>\n      <td>-740.970252</td>\n      <td>-1129.176380</td>\n    </tr>\n    <tr>\n      <th>3747</th>\n      <td>179459.091091</td>\n      <td>11374.561213</td>\n      <td>-15198.363507</td>\n      <td>-2653.048762</td>\n      <td>-7248.666273</td>\n      <td>490.905755</td>\n      <td>-1834.723328</td>\n      <td>1339.468223</td>\n      <td>-332.318377</td>\n      <td>-2003.026207</td>\n      <td>...</td>\n      <td>-1584.020920</td>\n      <td>164.864685</td>\n      <td>-19.869329</td>\n      <td>-1914.183864</td>\n      <td>601.807872</td>\n      <td>395.926409</td>\n      <td>-2324.838996</td>\n      <td>171.118455</td>\n      <td>1412.326174</td>\n      <td>122.648314</td>\n    </tr>\n    <tr>\n      <th>3748</th>\n      <td>-144222.988930</td>\n      <td>-26324.644198</td>\n      <td>-40555.204210</td>\n      <td>-987.763333</td>\n      <td>9826.795246</td>\n      <td>-204.449301</td>\n      <td>-3068.778408</td>\n      <td>-849.747627</td>\n      <td>3752.101591</td>\n      <td>-1669.777305</td>\n      <td>...</td>\n      <td>1296.241932</td>\n      <td>849.101965</td>\n      <td>2768.577635</td>\n      <td>3203.240988</td>\n      <td>730.781056</td>\n      <td>-204.692443</td>\n      <td>185.841519</td>\n      <td>1032.122163</td>\n      <td>2372.807511</td>\n      <td>131.957871</td>\n    </tr>\n    <tr>\n      <th>3749</th>\n      <td>-143687.121476</td>\n      <td>-36674.467859</td>\n      <td>-25714.963780</td>\n      <td>-17336.781734</td>\n      <td>1923.555360</td>\n      <td>1066.715413</td>\n      <td>-124.299330</td>\n      <td>-492.474755</td>\n      <td>117.435344</td>\n      <td>-1544.677480</td>\n      <td>...</td>\n      <td>-192.257734</td>\n      <td>596.244732</td>\n      <td>1085.096485</td>\n      <td>2249.026481</td>\n      <td>1279.672334</td>\n      <td>2957.789054</td>\n      <td>-1080.550178</td>\n      <td>1557.198530</td>\n      <td>-1906.866035</td>\n      <td>-2188.404098</td>\n    </tr>\n  </tbody>\n</table>\n<p>3750 rows × 90 columns</p>\n</div>"
     },
     "execution_count": 9,
     "metadata": {},
     "output_type": "execute_result"
    }
   ],
   "source": [],
   "metadata": {
    "collapsed": false,
    "pycharm": {
     "name": "#%%\n"
    }
   }
  },
  {
   "cell_type": "code",
   "execution_count": null,
   "outputs": [],
   "source": [],
   "metadata": {
    "collapsed": false,
    "pycharm": {
     "name": "#%%\n"
    }
   }
  }
 ],
 "metadata": {
  "kernelspec": {
   "name": "cdv",
   "language": "python",
   "display_name": "Python (CDV)"
  },
  "language_info": {
   "codemirror_mode": {
    "name": "ipython",
    "version": 2
   },
   "file_extension": ".py",
   "mimetype": "text/x-python",
   "name": "python",
   "nbconvert_exporter": "python",
   "pygments_lexer": "ipython2",
   "version": "2.7.6"
  }
 },
 "nbformat": 4,
 "nbformat_minor": 0
}